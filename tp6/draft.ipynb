{
 "cells": [
  {
   "cell_type": "code",
   "execution_count": 2,
   "metadata": {},
   "outputs": [],
   "source": [
    "import numpy as np"
   ]
  },
  {
   "cell_type": "markdown",
   "metadata": {},
   "source": [
    "```matlab\n",
    "function [pulse,azerr,elerr] = getNearestUCDpulse(azimuth,elevation,h3D)\n",
    "%   retrieves the impulse response from h3D that is closest to the specified \n",
    "%   azimuth and elevation (in degrees)\n",
    "%   h3D is the array containing all HRTFs for a given subject (left or right)\n",
    "\n",
    "\n",
    "elmax = 50;\n",
    "elindices = 1:elmax;\n",
    "elevations = -45 + 5.625*(elindices-1);\n",
    "azimuths = [-80 -65 -55 -45:5:45 55 65 80];\n",
    "\n",
    "%el est est l'indice du plus proche de l'indicie elevation entré\n",
    "el = round ((elevation+45)/5.625 +1);\n",
    "el= max(el,1);\n",
    "el = min (el,elmax);\n",
    "elerr= el - (elevation+45)/5.625 +1;\n",
    "\n",
    "\n",
    "%azim est l'indice du plus proche de l'indice azimuth entré\n",
    "[azerr, azim] = min (abs(azimuths - azimuth));\n",
    "\n",
    "\n",
    "fprintf('les paramètres utilisés pour la HRTF sont:\\n \\t azimuth: %i degrés \\n \\t élevation: %6.3f degrés',azimuths(azim),-45 + 5.625*(el-1));\n",
    "fprintf('\\nles indices sont:\\n \\t azim: %i \\n \\t el: %d ',azim,el);\n",
    "azimuths(azim);\n",
    "\n",
    "pulse = squeeze(h3D(azim,el,:));\n",
    "\n",
    "\n",
    "```"
   ]
  },
  {
   "cell_type": "code",
   "execution_count": 22,
   "metadata": {},
   "outputs": [
    {
     "ename": "TypeError",
     "evalue": "'NoneType' object is not subscriptable",
     "output_type": "error",
     "traceback": [
      "\u001b[0;31m---------------------------------------------------------------------------\u001b[0m",
      "\u001b[0;31mTypeError\u001b[0m                                 Traceback (most recent call last)",
      "\u001b[0;32m<ipython-input-22-a954fb00d980>\u001b[0m in \u001b[0;36m<module>\u001b[0;34m()\u001b[0m\n\u001b[1;32m     15\u001b[0m     \u001b[0;32mreturn\u001b[0m \u001b[0mfiltr\u001b[0m\u001b[0;34m[\u001b[0m\u001b[0maz\u001b[0m\u001b[0;34m,\u001b[0m \u001b[0mel\u001b[0m\u001b[0;34m,\u001b[0m \u001b[0;34m:\u001b[0m\u001b[0;34m]\u001b[0m\u001b[0;34m,\u001b[0m \u001b[0melerr\u001b[0m\u001b[0;34m,\u001b[0m \u001b[0mazerr\u001b[0m\u001b[0;34m\u001b[0m\u001b[0m\n\u001b[1;32m     16\u001b[0m \u001b[0;34m\u001b[0m\u001b[0m\n\u001b[0;32m---> 17\u001b[0;31m \u001b[0mgetNearestUCDpulse\u001b[0m\u001b[0;34m(\u001b[0m\u001b[0;36m21\u001b[0m\u001b[0;34m,\u001b[0m \u001b[0;36m30\u001b[0m\u001b[0;34m,\u001b[0m \u001b[0;32mNone\u001b[0m\u001b[0;34m)\u001b[0m\u001b[0;34m\u001b[0m\u001b[0m\n\u001b[0m",
      "\u001b[0;32m<ipython-input-22-a954fb00d980>\u001b[0m in \u001b[0;36mgetNearestUCDpulse\u001b[0;34m(azimuth, elevation, filtr)\u001b[0m\n\u001b[1;32m     13\u001b[0m     \u001b[0mazerr\u001b[0m \u001b[0;34m=\u001b[0m \u001b[0mnp\u001b[0m\u001b[0;34m.\u001b[0m\u001b[0mabs\u001b[0m\u001b[0;34m(\u001b[0m\u001b[0mazimuths\u001b[0m \u001b[0;34m-\u001b[0m \u001b[0mazimuth\u001b[0m\u001b[0;34m)\u001b[0m\u001b[0;34m[\u001b[0m\u001b[0maz\u001b[0m\u001b[0;34m]\u001b[0m\u001b[0;34m\u001b[0m\u001b[0m\n\u001b[1;32m     14\u001b[0m \u001b[0;34m\u001b[0m\u001b[0m\n\u001b[0;32m---> 15\u001b[0;31m     \u001b[0;32mreturn\u001b[0m \u001b[0mfiltr\u001b[0m\u001b[0;34m[\u001b[0m\u001b[0maz\u001b[0m\u001b[0;34m,\u001b[0m \u001b[0mel\u001b[0m\u001b[0;34m,\u001b[0m \u001b[0;34m:\u001b[0m\u001b[0;34m]\u001b[0m\u001b[0;34m,\u001b[0m \u001b[0melerr\u001b[0m\u001b[0;34m,\u001b[0m \u001b[0mazerr\u001b[0m\u001b[0;34m\u001b[0m\u001b[0m\n\u001b[0m\u001b[1;32m     16\u001b[0m \u001b[0;34m\u001b[0m\u001b[0m\n\u001b[1;32m     17\u001b[0m \u001b[0mgetNearestUCDpulse\u001b[0m\u001b[0;34m(\u001b[0m\u001b[0;36m21\u001b[0m\u001b[0;34m,\u001b[0m \u001b[0;36m30\u001b[0m\u001b[0;34m,\u001b[0m \u001b[0;32mNone\u001b[0m\u001b[0;34m)\u001b[0m\u001b[0;34m\u001b[0m\u001b[0m\n",
      "\u001b[0;31mTypeError\u001b[0m: 'NoneType' object is not subscriptable"
     ]
    }
   ],
   "source": [
    "elmax = 50\n",
    "elevations = -45 + 5.625 * np.arange(elmax)\n",
    "azimuths = np.concatenate(([-80, -65, -55], np.arange(-45, 50, 5), [55, 65, 80]))\n",
    "\n",
    "def getNearestUCDpulse(azimuth, elevation, filtr):\n",
    "\n",
    "    # Find closest index for elevation in table\n",
    "    el = int(np.round(((elevation + 45) / 5.625)))\n",
    "    el = min(elmax, max(el, 1))\n",
    "    elerr = el - (elevation + 45) / 5.625\n",
    "    \n",
    "    az = np.abs(azimuths - azimuth).argmin()\n",
    "    azerr = np.abs(azimuths - azimuth)[az]\n",
    "    \n",
    "    return filtr[az, el, :], elerr, azerr\n",
    "\n",
    "getNearestUCDpulse(21, 30, None)"
   ]
  },
  {
   "cell_type": "code",
   "execution_count": 15,
   "metadata": {},
   "outputs": [
    {
     "data": {
      "text/plain": [
       "28.125"
      ]
     },
     "execution_count": 15,
     "metadata": {},
     "output_type": "execute_result"
    }
   ],
   "source": [
    "elevations[13]"
   ]
  }
 ],
 "metadata": {
  "kernelspec": {
   "display_name": "Python 3",
   "language": "python",
   "name": "python3"
  },
  "language_info": {
   "codemirror_mode": {
    "name": "ipython",
    "version": 3
   },
   "file_extension": ".py",
   "mimetype": "text/x-python",
   "name": "python",
   "nbconvert_exporter": "python",
   "pygments_lexer": "ipython3",
   "version": "3.5.2"
  }
 },
 "nbformat": 4,
 "nbformat_minor": 2
}
